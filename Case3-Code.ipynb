{
 "cells": [
  {
   "cell_type": "code",
   "execution_count": 1,
   "id": "e57257bd",
   "metadata": {},
   "outputs": [],
   "source": [
    "#import voor alle benodigde libraries\n",
    "import requests\n",
    "import pandas as pd\n",
    "import matplotlib.pyplot as plt\n",
    "import json\n",
    "import seaborn as sns\n",
    "import plotly.express as px\n",
    "from sodapy import Socrata"
   ]
  },
  {
   "attachments": {},
   "cell_type": "markdown",
   "id": "8046db48",
   "metadata": {},
   "source": [
    "Importing Gekentekende Voertuigen\n",
    "\n",
    "The source of our API for the dataframe 'voertuigen_df' has their own visualizations.\n",
    "From these visualizations we can determine that the following columns do not have more than 50% NaN values:"
   ]
  },
  {
   "cell_type": "code",
   "execution_count": 41,
   "id": "68719145",
   "metadata": {},
   "outputs": [
    {
     "name": "stderr",
     "output_type": "stream",
     "text": [
      "WARNING:root:Requests made without an app_token will be subject to strict throttling limits.\n"
     ]
    }
   ],
   "source": [
    "# #Inladen API voertuigen\n",
    "# #Van de site:\n",
    "# #https://opendata.rdw.nl/Voertuigen/Open-Data-RDW-Gekentekende_voertuigen/m9d7-ebf2\n",
    "# client_1 = Socrata(\"opendata.rdw.nl\", None)\n",
    "\n",
    "# voertuigen = client_1.get(\"m9d7-ebf2\", limit=15200000, where='laadvermogen>0',\n",
    "#                           select='kenteken, voertuigsoort, merk, handelsbenaming, inrichting, eerste_kleur, aantal_cilinders, massa_ledig_voertuig, wam_verzekerd, aantal_deuren, aantal_wielen, europese_voertuigcategorie, vermogen_massarijklaar, datum_tenaamstelling_dt, datum_eerste_toelating_dt, datum_eerste_tenaamstelling_in_nederland_dt'\n",
    "#                           )\n",
    "\n",
    "# voertuigen_df = pd.DataFrame.from_records(voertuigen)\n",
    "\n",
    "# voertuigen_df.shape"
   ]
  },
  {
   "attachments": {},
   "cell_type": "markdown",
   "id": "58865cc0",
   "metadata": {},
   "source": [
    "Importing Brandstof Types Voertuigen\n",
    "\n",
    "The source of our API for the dataframe 'brandstof_df' has their own visualizations.\n",
    "From these visualizations we can determine that the following columns do not have more than 50% NaN values:"
   ]
  },
  {
   "cell_type": "code",
   "execution_count": 26,
   "id": "8be2ff6d",
   "metadata": {},
   "outputs": [
    {
     "name": "stderr",
     "output_type": "stream",
     "text": [
      "WARNING:root:Requests made without an app_token will be subject to strict throttling limits.\n"
     ]
    }
   ],
   "source": [
    "# #Inladen API brandstof types\n",
    "# #Van de site:\n",
    "# #https://opendata.rdw.nl/Voertuigen/Open-Data-RDW-Gekentekende_voertuigen_brandstof/8ys7-d773\n",
    "# client_2 = Socrata(\"opendata.rdw.nl\", None)\n",
    "\n",
    "# brandstof = client_2.get(\"8ys7-d773\", limit=1300000, where=\"brandstof_omschrijving='Elektriciteit'\",\n",
    "#                          select='kenteken, brandstof_volgnummer, brandstof_omschrijving, emissiecode_omschrijving, milieuklasse_eg_goedkeuring_licht, klasse_hybride_elektrisch_voertuig, uitlaatemissieniveau'\n",
    "#                          )\n",
    "\n",
    "# brandstof_df = pd.DataFrame.from_records(brandstof)\n",
    "\n",
    "# brandstof_df.shape"
   ]
  },
  {
   "attachments": {},
   "cell_type": "markdown",
   "id": "578bdb3b",
   "metadata": {},
   "source": [
    "Merging voertuigen_df & brandstof_df so we have a dataframe that consists solely of electric vehicles with all their data."
   ]
  },
  {
   "cell_type": "code",
   "execution_count": 52,
   "id": "64a0d324",
   "metadata": {},
   "outputs": [],
   "source": [
    "# elektrisch_df = voertuigen_df.merge(brandstof_df, how='inner', on='kenteken')"
   ]
  },
  {
   "cell_type": "code",
   "execution_count": 59,
   "id": "f3f4766f",
   "metadata": {},
   "outputs": [
    {
     "data": {
      "text/plain": [
       "(19610, 22)"
      ]
     },
     "execution_count": 59,
     "metadata": {},
     "output_type": "execute_result"
    }
   ],
   "source": [
    "# elektrisch_df.shape"
   ]
  },
  {
   "cell_type": "code",
   "execution_count": 54,
   "id": "02349e43",
   "metadata": {},
   "outputs": [],
   "source": [
    "# elektrisch_df.to_csv(r'C:\\School\\Y3\\Semester 2 - Minor\\Block 1\\Case3\\elektrischV2.csv')"
   ]
  },
  {
   "attachments": {},
   "cell_type": "markdown",
   "id": "5bc0fb06",
   "metadata": {},
   "source": [
    "Importing an API that provides data on charging docks for cars in the Netherlands"
   ]
  },
  {
   "cell_type": "code",
   "execution_count": 101,
   "metadata": {},
   "outputs": [],
   "source": [
    "#Inladen API chargemap\n",
    "response = requests.get(\"https://api.openchargemap.io/v3/poi/?output=json&countrycode=NL&maxresults=1000&compact=true&verbose=false&key=6686970f-0aa6-4cb5-ae81-cf8f6389a816\")\n",
    "\n",
    "#Omzetten naar dictionary\n",
    "responsejson  = response.json()\n",
    "\n",
    "#Dataframe bevat kolom die een list zijn. \n",
    "#Met json_normalize zet je de eerste kolom om naar losse kolommen\n",
    "charge_map = pd.json_normalize(responsejson)\n",
    "\n",
    "charge_map_df = pd.DataFrame.from_records(charge_map)"
   ]
  },
  {
   "cell_type": "code",
   "execution_count": 102,
   "id": "cd7bfbc7",
   "metadata": {},
   "outputs": [],
   "source": [
    "#Dropping unnecessary columns:\n",
    "charge_map_df = charge_map_df.drop(columns=['IsRecentlyVerified', 'UUID', 'DataProviderID', 'AddressInfo.CountryID', \n",
    "                            'AddressInfo.DistanceUnit', 'AddressInfo.RelatedURL', 'AddressInfo.ContactTelephone1', \n",
    "                            'AddressInfo.ContactEmail', 'AddressInfo.ContactTelephone2', 'OperatorsReference', \n",
    "                            'DataProvidersReference', 'GeneralComments', 'AddressInfo.AddressLine2',\n",
    "                            'AddressInfo.AccessComments'\n",
    "                            ])"
   ]
  },
  {
   "cell_type": "code",
   "execution_count": 113,
   "id": "15874b93",
   "metadata": {},
   "outputs": [],
   "source": [
    "#Renaming column names:\n",
    "charge_map_df.rename(columns={'AddressInfo.Latitude':'LAT', 'AddressInfo.Longitude':'LON', \n",
    "                              'AddressInfo.Postcode':'Postcode', 'AddressInfo.ID':'Address_ID', \n",
    "                              'AddressInfo.Title':'Address_Title', 'AddressInfo.AddressLine1':'Address_Line1',\n",
    "                              'AddressInfo.StateOrProvince':'Address_StateOrProvince', \n",
    "                              'AddressInfo.Town':'Address_Town'},\n",
    "                              inplace=True)"
   ]
  },
  {
   "cell_type": "code",
   "execution_count": 57,
   "id": "ad97c470",
   "metadata": {},
   "outputs": [],
   "source": [
    "laadpaal_df = pd.read_csv('laadpaaldata.csv')\n",
    "elektrisch_df = pd.read_csv('elektrischV2.csv', index_col=0)"
   ]
  },
  {
   "cell_type": "code",
   "execution_count": 58,
   "id": "d64d2d72",
   "metadata": {},
   "outputs": [
    {
     "data": {
      "text/html": [
       "<div>\n",
       "<style scoped>\n",
       "    .dataframe tbody tr th:only-of-type {\n",
       "        vertical-align: middle;\n",
       "    }\n",
       "\n",
       "    .dataframe tbody tr th {\n",
       "        vertical-align: top;\n",
       "    }\n",
       "\n",
       "    .dataframe thead th {\n",
       "        text-align: right;\n",
       "    }\n",
       "</style>\n",
       "<table border=\"1\" class=\"dataframe\">\n",
       "  <thead>\n",
       "    <tr style=\"text-align: right;\">\n",
       "      <th></th>\n",
       "      <th>Started</th>\n",
       "      <th>Ended</th>\n",
       "      <th>TotalEnergy</th>\n",
       "      <th>ConnectedTime</th>\n",
       "      <th>ChargeTime</th>\n",
       "      <th>MaxPower</th>\n",
       "    </tr>\n",
       "  </thead>\n",
       "  <tbody>\n",
       "    <tr>\n",
       "      <th>0</th>\n",
       "      <td>2018-01-01 08:45:26</td>\n",
       "      <td>2018-01-01 09:16:45</td>\n",
       "      <td>1830</td>\n",
       "      <td>0.5219</td>\n",
       "      <td>0.5219</td>\n",
       "      <td>3524</td>\n",
       "    </tr>\n",
       "    <tr>\n",
       "      <th>1</th>\n",
       "      <td>2018-01-01 11:26:40</td>\n",
       "      <td>2018-01-01 14:36:13</td>\n",
       "      <td>28641</td>\n",
       "      <td>3.1592</td>\n",
       "      <td>2.3056</td>\n",
       "      <td>13680</td>\n",
       "    </tr>\n",
       "    <tr>\n",
       "      <th>2</th>\n",
       "      <td>2018-01-01 12:39:28</td>\n",
       "      <td>2018-01-01 20:58:10</td>\n",
       "      <td>65534</td>\n",
       "      <td>8.3117</td>\n",
       "      <td>8.3117</td>\n",
       "      <td>11200</td>\n",
       "    </tr>\n",
       "    <tr>\n",
       "      <th>3</th>\n",
       "      <td>2018-01-01 14:26:58</td>\n",
       "      <td>2018-01-02 06:36:55</td>\n",
       "      <td>10080</td>\n",
       "      <td>16.1658</td>\n",
       "      <td>4.3006</td>\n",
       "      <td>3360</td>\n",
       "    </tr>\n",
       "    <tr>\n",
       "      <th>4</th>\n",
       "      <td>2018-01-01 14:50:05</td>\n",
       "      <td>2018-01-01 17:21:50</td>\n",
       "      <td>7180</td>\n",
       "      <td>2.5292</td>\n",
       "      <td>2.0656</td>\n",
       "      <td>3758</td>\n",
       "    </tr>\n",
       "  </tbody>\n",
       "</table>\n",
       "</div>"
      ],
      "text/plain": [
       "               Started                Ended  TotalEnergy  ConnectedTime  \\\n",
       "0  2018-01-01 08:45:26  2018-01-01 09:16:45         1830         0.5219   \n",
       "1  2018-01-01 11:26:40  2018-01-01 14:36:13        28641         3.1592   \n",
       "2  2018-01-01 12:39:28  2018-01-01 20:58:10        65534         8.3117   \n",
       "3  2018-01-01 14:26:58  2018-01-02 06:36:55        10080        16.1658   \n",
       "4  2018-01-01 14:50:05  2018-01-01 17:21:50         7180         2.5292   \n",
       "\n",
       "   ChargeTime  MaxPower  \n",
       "0      0.5219      3524  \n",
       "1      2.3056     13680  \n",
       "2      8.3117     11200  \n",
       "3      4.3006      3360  \n",
       "4      2.0656      3758  "
      ]
     },
     "execution_count": 58,
     "metadata": {},
     "output_type": "execute_result"
    }
   ],
   "source": [
    "laadpaal_df.head()"
   ]
  },
  {
   "attachments": {},
   "cell_type": "markdown",
   "id": "10279e7d",
   "metadata": {},
   "source": [
    "NOTE TO SELF: NA DE MERGE DOWNLOADEN ALS CSV, DAN HOEFT JE NIET STEEDS 16 MILJOEN TE RUNNEN"
   ]
  }
 ],
 "metadata": {
  "kernelspec": {
   "display_name": "Python 3 (ipykernel)",
   "language": "python",
   "name": "python3"
  },
  "language_info": {
   "codemirror_mode": {
    "name": "ipython",
    "version": 3
   },
   "file_extension": ".py",
   "mimetype": "text/x-python",
   "name": "python",
   "nbconvert_exporter": "python",
   "pygments_lexer": "ipython3",
   "version": "3.9.13"
  }
 },
 "nbformat": 4,
 "nbformat_minor": 5
}
